{
 "cells": [
  {
   "cell_type": "code",
   "execution_count": 1,
   "metadata": {},
   "outputs": [
    {
     "name": "stderr",
     "output_type": "stream",
     "text": [
      "/anaconda/envs/zillow/lib/python3.5/site-packages/sklearn/cross_validation.py:44: DeprecationWarning: This module was deprecated in version 0.18 in favor of the model_selection module into which all the refactored classes and functions are moved. Also note that the interface of the new CV iterators are different from that of this module. This module will be removed in 0.20.\n",
      "  \"This module will be removed in 0.20.\", DeprecationWarning)\n",
      "/anaconda/envs/zillow/lib/python3.5/site-packages/sklearn/grid_search.py:43: DeprecationWarning: This module was deprecated in version 0.18 in favor of the model_selection module into which all the refactored classes and functions are moved. This module will be removed in 0.20.\n",
      "  DeprecationWarning)\n"
     ]
    }
   ],
   "source": [
    "import numpy as np\n",
    "import pandas as pd\n",
    "\n",
    "from sklearn.pipeline import FeatureUnion\n",
    "from sklearn.pipeline import Pipeline\n",
    "from sklearn.grid_search import GridSearchCV\n",
    "from sklearn.model_selection import train_test_split\n",
    "from sklearn.ensemble import GradientBoostingRegressor\n",
    "from sklearn.model_selection import cross_val_score\n",
    "from sklearn import metrics\n",
    "from os.path import join\n",
    "import os\n",
    "\n",
    "from zillow.Imports.CreateDatasets import CreateDatasets\n",
    "\n",
    "from zillow.MyPipeline.NanSubs import NanSubs\n",
    "from zillow.MyPipeline.Binner import Binner\n",
    "from zillow.MyPipeline.YNto10mapper import YNto10mapper\n",
    "from zillow.MyPipeline.AddMultInteractions import AddMultInteractions\n",
    "from zillow.MyPipeline.AddRatioInteractions import AddRatioInteractions\n",
    "from zillow.MyPipeline.DFtoNPArray import DFtoNPArray\n",
    "\n",
    "import matplotlib.pyplot as plt\n",
    "import seaborn as sns\n",
    "color = sns.color_palette()\n",
    "\n",
    "%matplotlib inline"
   ]
  },
  {
   "cell_type": "code",
   "execution_count": 2,
   "metadata": {
    "collapsed": true
   },
   "outputs": [],
   "source": [
    "drivers = CreateDatasets(properties_file='properties_2016.csv',\n",
    "                             train_file='train_2016_v2.csv')\n",
    "drivers.run()"
   ]
  },
  {
   "cell_type": "code",
   "execution_count": null,
   "metadata": {},
   "outputs": [
    {
     "name": "stdout",
     "output_type": "stream",
     "text": [
      "Starting input pipeline\n"
     ]
    },
    {
     "name": "stderr",
     "output_type": "stream",
     "text": [
      "/anaconda/envs/zillow/lib/python3.5/site-packages/sklearn/metrics/scorer.py:90: DeprecationWarning: Scoring method mean_absolute_error was renamed to neg_mean_absolute_error in version 0.18 and will be removed in 0.20.\n",
      "  sample_weight=sample_weight)\n",
      "/anaconda/envs/zillow/lib/python3.5/site-packages/sklearn/metrics/scorer.py:90: DeprecationWarning: Scoring method mean_absolute_error was renamed to neg_mean_absolute_error in version 0.18 and will be removed in 0.20.\n",
      "  sample_weight=sample_weight)\n",
      "/anaconda/envs/zillow/lib/python3.5/site-packages/sklearn/metrics/scorer.py:90: DeprecationWarning: Scoring method mean_absolute_error was renamed to neg_mean_absolute_error in version 0.18 and will be removed in 0.20.\n",
      "  sample_weight=sample_weight)\n",
      "/anaconda/envs/zillow/lib/python3.5/site-packages/sklearn/metrics/scorer.py:90: DeprecationWarning: Scoring method mean_absolute_error was renamed to neg_mean_absolute_error in version 0.18 and will be removed in 0.20.\n",
      "  sample_weight=sample_weight)\n"
     ]
    }
   ],
   "source": [
    "params = {'n_estimators': 800,\n",
    "          'learning_rate': 0.01,\n",
    "          'max_depth': 6,\n",
    "          'min_samples_leaf': 25,\n",
    "          'subsample': 0.5,\n",
    "          'max_features': 0.5\n",
    "          }\n",
    "gbm = GradientBoostingRegressor(loss='lad', random_state=90210, **params)\n",
    "\n",
    "intxn_cols = ['bedroomcnt', 'bathroomcnt', 'finishedfloor1squarefeet', \n",
    "              'calculatedfinishedsquarefeet', 'fireplacecnt', 'garagecarcnt',\n",
    "              'lotsizesquarefeet', 'roomcnt', 'unitcnt', 'yearbuilt', 'numberofstories',\n",
    "              'taxvaluedollarcnt', 'landtaxvaluedollarcnt'\n",
    "             ]\n",
    "\n",
    "input_pipeline = Pipeline(\n",
    "    [\n",
    "        ('binning_lat', Binner('latitude', 100)),\n",
    "        ('binning_lon', Binner('longitude', 100)),\n",
    "        ('basefeatures', NanSubs()),\n",
    "        ('trxndqflag', YNto10mapper(['taxdelinquencyflag'])),\n",
    "        ('multiplicative_intxns', AddMultInteractions(intxn_cols)),\n",
    "        ('ratio_intxns', AddRatioInteractions(intxn_cols)),\n",
    "        ('numpyarray', DFtoNPArray())\n",
    "    ]\n",
    ")\n",
    "\n",
    "estimator_pipeline = Pipeline(\n",
    "    [\n",
    "        (\"gbm\", gbm)\n",
    "    ]\n",
    ")\n",
    "\n",
    "print('Starting input pipeline')\n",
    "input_pipeline.fit(drivers.Xs['x_train'])\n",
    "transformed_x = input_pipeline.transform(drivers.Xs['x_train'])\n",
    "\n",
    "\n",
    "# Option 1 - cross validation. This has an error that I haven't figured out yet.\n",
    "scores = cross_val_score(estimator_pipeline, transformed_x, drivers.y_train, cv=5, scoring='mean_absolute_error')\n",
    "print('Scores were:', scores)\n",
    "print('Average score of:', np.average(scores))\n",
    "\n",
    "# Option 2 - Fit on entire training dataset\n",
    "# pipeline.fit(drivers.Xs['x_train'], drivers.y_train)\n",
    "\n",
    "# Option 3 - Holdout set\n",
    "\n",
    "# pipeline.fit(X_train, y_train)"
   ]
  },
  {
   "cell_type": "code",
   "execution_count": null,
   "metadata": {},
   "outputs": [],
   "source": [
    "X_train, X_test, y_train, y_test = train_test_split(transformed_x, drivers.y_train, random_state=8675309)\n",
    "estimator_pipeline.fit(X_train, y_train)\n",
    "pred = estimator_pipeline.predict(X_test)\n",
    "\n",
    "# score on test data (accuracy)\n",
    "mae = metrics.mean_absolute_error(y_test, pred)\n",
    "orig_mae = metrics.mean_absolute_error(drivers.y_train, np.zeros(len(drivers.y_train)))\n",
    "\n",
    "print('MAE original: %.4f' % orig_mae)\n",
    "print('MAE test set: %.4f' % mae)"
   ]
  },
  {
   "cell_type": "code",
   "execution_count": null,
   "metadata": {},
   "outputs": [],
   "source": [
    "import os\n",
    "from os.path import join\n",
    "\n",
    "n_estimators = len(estimator_pipeline.named_steps['gbm'].estimators_)\n",
    "\n",
    "def deviance_plot(est, X_test, y_test, ax=None, label='', train_color='#2c7bb6',\n",
    "                  test_color='#d7191c', alpha=1.0):\n",
    "    \"\"\"Deviance plot for ``est``, use ``X_test`` and ``y_test`` for test error. \"\"\"\n",
    "    test_dev = np.empty(n_estimators)\n",
    "\n",
    "    for i, pred in enumerate(est.staged_predict(X_test)):\n",
    "       test_dev[i] = est.loss_(y_test, pred)\n",
    "\n",
    "    if ax is None:\n",
    "        fig = plt.figure(figsize=(10, 10))\n",
    "        ax = plt.gca()\n",
    "\n",
    "    ax.plot(np.arange(n_estimators) + 1, est.train_score_, color=train_color,\n",
    "             label='Train %s' % label, linewidth=2, alpha=alpha)\n",
    "    ax.plot(np.arange(n_estimators) + 1, test_dev, color=test_color, label='Test %s' % label,\n",
    "             linewidth=2, alpha=alpha)\n",
    "    ax.set_ylabel('Error')\n",
    "    ax.set_xlabel('n_estimators')\n",
    "    return test_dev, ax\n",
    "\n",
    "cwd = os.getcwd()\n",
    "\n",
    "test_dev, ax = deviance_plot(estimator_pipeline.named_steps['gbm'], X_test, y_test)\n",
    "ax.legend(loc='upper right')\n",
    "plt.savefig(join(cwd, 'figures/deviance.png'))"
   ]
  },
  {
   "cell_type": "code",
   "execution_count": null,
   "metadata": {},
   "outputs": [],
   "source": [
    "feature_importance = pipeline.named_steps['gbm'].feature_importances_\n",
    "# make importances relative to max importance\n",
    "feature_importance = 100.0 * (feature_importance / feature_importance.max())\n",
    "sorted_idx = np.argsort(feature_importance)\n",
    "print(sorted_idx)\n",
    "pos = np.arange(sorted_idx.shape[0]) + .5\n",
    "plt.figure(figsize=(20, 20))\n",
    "plt.subplot(1, 2, 2)\n",
    "plt.barh(pos, feature_importance[sorted_idx], align='center')\n",
    "plt.yticks(pos, drivers.Xs['x_train'].columns[sorted_idx])\n",
    "plt.xlabel('Relative Importance')\n",
    "plt.title('Variable Importance')\n",
    "cwd = os.getcwd()\n",
    "plt.savefig(join(cwd, 'figures/feature_importance.png'))"
   ]
  },
  {
   "cell_type": "code",
   "execution_count": null,
   "metadata": {
    "collapsed": true
   },
   "outputs": [],
   "source": [
    "submission_y = pipeline.predict(drivers.Xs['x_scoring'])"
   ]
  },
  {
   "cell_type": "code",
   "execution_count": null,
   "metadata": {
    "collapsed": true
   },
   "outputs": [],
   "source": [
    "# Append y's to driver\n",
    "submission_nonpivoted = pd.DataFrame({\n",
    "        \"ParcelId\": drivers.scoring_driver[\"parcelid\"],\n",
    "        \"transactiondate\": drivers.scoring_driver[\"transactiondate\"],\n",
    "        \"Pred\": submission_y\n",
    "    })"
   ]
  },
  {
   "cell_type": "code",
   "execution_count": null,
   "metadata": {
    "collapsed": true
   },
   "outputs": [],
   "source": [
    "cwd = os.getcwd()\n",
    "submission = submission_nonpivoted.pivot(index='ParcelId', columns='transactiondate', values='Pred').reset_index()\n",
    "submission.columns = ['ParcelID', '201610', '201611', '201612', '201710', '201711', '201712']\n",
    "submission.to_csv(join(cwd, 'submission.csv'), index=False)"
   ]
  }
 ],
 "metadata": {
  "kernelspec": {
   "display_name": "Python 3",
   "language": "python",
   "name": "python3"
  },
  "language_info": {
   "codemirror_mode": {
    "name": "ipython",
    "version": 3
   },
   "file_extension": ".py",
   "mimetype": "text/x-python",
   "name": "python",
   "nbconvert_exporter": "python",
   "pygments_lexer": "ipython3",
   "version": "3.5.3"
  }
 },
 "nbformat": 4,
 "nbformat_minor": 2
}
